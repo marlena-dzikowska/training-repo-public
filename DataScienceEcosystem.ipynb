{
 "cells": [
  {
   "cell_type": "markdown",
   "id": "e1ac3cb9-dc9e-4359-ba01-c538f9115162",
   "metadata": {},
   "source": [
    "# Data Science Tools and Ecosystem"
   ]
  },
  {
   "cell_type": "markdown",
   "id": "20783729-0625-4b8b-8e7c-f5935a146e38",
   "metadata": {},
   "source": [
    "In this notebook, Data Science Tools and Ecosystem are summarized."
   ]
  },
  {
   "cell_type": "markdown",
   "id": "2ad89bc0-149d-48f2-adb0-ba1a4365435c",
   "metadata": {},
   "source": [
    "**Objectives:**\n",
    "* List the popular languages that Data Scientists use\n",
    "* List the libraries commonly used by Data Scientists\n",
    "* List the popular Data Science Tools\n",
    "\n"
   ]
  },
  {
   "cell_type": "markdown",
   "id": "21379493-0ecc-47e8-86f7-26d9b449f198",
   "metadata": {},
   "source": [
    "Some of the popular languages that Data Scientists use are:\n",
    "1. Python\n",
    "2. R\n",
    "3. SQL\n",
    "4. Scala\n",
    "5. Julia"
   ]
  },
  {
   "cell_type": "markdown",
   "id": "c955d65c-3594-4473-890d-ee71675b7d71",
   "metadata": {},
   "source": [
    "Some of the commonly used libraries used by Data Scientists include:\n",
    "1. Pandas\n",
    "2. NumPy\n",
    "3. Matplotlib\n",
    "4. Scikit-learn\n"
   ]
  },
  {
   "cell_type": "markdown",
   "id": "e63a43e4-131d-40a7-8eeb-e57562057bff",
   "metadata": {},
   "source": [
    "|Data Science Tools|\n",
    "|------------------|\n",
    "|Jupiter Notebooks|\n",
    "|Apache Spark|\n",
    "|TensorFlow|"
   ]
  },
  {
   "cell_type": "markdown",
   "id": "f90692e1-fe58-4c55-be60-9a14a435cb69",
   "metadata": {},
   "source": [
    "### Below are a few examples of evaluating arithmetic expressions in Python."
   ]
  },
  {
   "cell_type": "code",
   "execution_count": 2,
   "id": "0a8603d9-cbd7-4854-b5bd-a9118adfec8c",
   "metadata": {},
   "outputs": [
    {
     "data": {
      "text/plain": [
       "17"
      ]
     },
     "execution_count": 2,
     "metadata": {},
     "output_type": "execute_result"
    }
   ],
   "source": [
    "#This is a simple erithmetic expression where 3 is multiplied by 4, and then 5 is added\n",
    "(3*4)+5"
   ]
  },
  {
   "cell_type": "code",
   "execution_count": 11,
   "id": "ab1b6129-6e32-4a82-9050-e6b386d1107a",
   "metadata": {},
   "outputs": [
    {
     "name": "stdout",
     "output_type": "stream",
     "text": [
      "There are 3.33 hours in 200 minutes.\n"
     ]
    }
   ],
   "source": [
    "#This code will convert 200 minutes to hours by dividing it by 60 and printing the results.\n",
    "value = 200\n",
    "print(f'There are {round(value/60, 2)} hours in 200 minutes.')"
   ]
  },
  {
   "cell_type": "markdown",
   "id": "dda18964-c813-47c9-b452-d96f21edda8b",
   "metadata": {},
   "source": [
    "## Author\n",
    "Marlena Dzikowska"
   ]
  },
  {
   "cell_type": "code",
   "execution_count": null,
   "id": "6c678cd3-d5dd-49d0-95ed-dd29724d110c",
   "metadata": {},
   "outputs": [],
   "source": []
  }
 ],
 "metadata": {
  "kernelspec": {
   "display_name": "Python 3 (ipykernel)",
   "language": "python",
   "name": "python3"
  },
  "language_info": {
   "codemirror_mode": {
    "name": "ipython",
    "version": 3
   },
   "file_extension": ".py",
   "mimetype": "text/x-python",
   "name": "python",
   "nbconvert_exporter": "python",
   "pygments_lexer": "ipython3",
   "version": "3.10.9"
  }
 },
 "nbformat": 4,
 "nbformat_minor": 5
}
